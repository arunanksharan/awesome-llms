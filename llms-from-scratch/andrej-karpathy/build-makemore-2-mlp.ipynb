{
 "cells": [
  {
   "cell_type": "code",
   "execution_count": 14,
   "metadata": {},
   "outputs": [],
   "source": [
    "import torch\n",
    "import torch.nn.functional as F\n",
    "import matplotlib.pyplot as plt\n",
    "%matplotlib inline"
   ]
  },
  {
   "cell_type": "code",
   "execution_count": 2,
   "metadata": {},
   "outputs": [],
   "source": [
    "# Read the vocabulary of words for names\n",
    "with open('names.txt', 'r') as f:\n",
    "    words = f.read().splitlines()"
   ]
  },
  {
   "cell_type": "code",
   "execution_count": 3,
   "metadata": {},
   "outputs": [
    {
     "data": {
      "text/plain": [
       "32033"
      ]
     },
     "execution_count": 3,
     "metadata": {},
     "output_type": "execute_result"
    }
   ],
   "source": [
    "len(words)"
   ]
  },
  {
   "cell_type": "code",
   "execution_count": 9,
   "metadata": {},
   "outputs": [
    {
     "name": "stdout",
     "output_type": "stream",
     "text": [
      "{1: 'a', 2: 'b', 3: 'c', 4: 'd', 5: 'e', 6: 'f', 7: 'g', 8: 'h', 9: 'i', 10: 'j', 11: 'k', 12: 'l', 13: 'm', 14: 'n', 15: 'o', 16: 'p', 17: 'q', 18: 'r', 19: 's', 20: 't', 21: 'u', 22: 'v', 23: 'w', 24: 'x', 25: 'y', 26: 'z', 0: '.'}\n"
     ]
    }
   ],
   "source": [
    "# build vocabulary of characters and mappings to/from integers\n",
    "chars = sorted(list(set(''.join(words))))\n",
    "stoi = {s:i+1 for i,s in enumerate(chars)}\n",
    "stoi['.'] = 0\n",
    "itos = {i:s for s,i in stoi.items()}\n",
    "print(itos)"
   ]
  },
  {
   "cell_type": "code",
   "execution_count": 11,
   "metadata": {},
   "outputs": [
    {
     "name": "stdout",
     "output_type": "stream",
     "text": [
      "word is: emma\n",
      "X is: [[0, 0, 0]]::Y is: [5]\n",
      "... ---> e\n",
      "Updated Context is: [0, 0, 5]\n",
      "X is: [[0, 0, 0], [0, 0, 5]]::Y is: [5, 13]\n",
      "..e ---> m\n",
      "Updated Context is: [0, 5, 13]\n",
      "X is: [[0, 0, 0], [0, 0, 5], [0, 5, 13]]::Y is: [5, 13, 13]\n",
      ".em ---> m\n",
      "Updated Context is: [5, 13, 13]\n",
      "X is: [[0, 0, 0], [0, 0, 5], [0, 5, 13], [5, 13, 13]]::Y is: [5, 13, 13, 1]\n",
      "emm ---> a\n",
      "Updated Context is: [13, 13, 1]\n",
      "X is: [[0, 0, 0], [0, 0, 5], [0, 5, 13], [5, 13, 13], [13, 13, 1]]::Y is: [5, 13, 13, 1, 0]\n",
      "mma ---> .\n",
      "Updated Context is: [13, 1, 0]\n",
      "word is: olivia\n",
      "X is: [[0, 0, 0], [0, 0, 5], [0, 5, 13], [5, 13, 13], [13, 13, 1], [0, 0, 0]]::Y is: [5, 13, 13, 1, 0, 15]\n",
      "... ---> o\n",
      "Updated Context is: [0, 0, 15]\n",
      "X is: [[0, 0, 0], [0, 0, 5], [0, 5, 13], [5, 13, 13], [13, 13, 1], [0, 0, 0], [0, 0, 15]]::Y is: [5, 13, 13, 1, 0, 15, 12]\n",
      "..o ---> l\n",
      "Updated Context is: [0, 15, 12]\n",
      "X is: [[0, 0, 0], [0, 0, 5], [0, 5, 13], [5, 13, 13], [13, 13, 1], [0, 0, 0], [0, 0, 15], [0, 15, 12]]::Y is: [5, 13, 13, 1, 0, 15, 12, 9]\n",
      ".ol ---> i\n",
      "Updated Context is: [15, 12, 9]\n",
      "X is: [[0, 0, 0], [0, 0, 5], [0, 5, 13], [5, 13, 13], [13, 13, 1], [0, 0, 0], [0, 0, 15], [0, 15, 12], [15, 12, 9]]::Y is: [5, 13, 13, 1, 0, 15, 12, 9, 22]\n",
      "oli ---> v\n",
      "Updated Context is: [12, 9, 22]\n",
      "X is: [[0, 0, 0], [0, 0, 5], [0, 5, 13], [5, 13, 13], [13, 13, 1], [0, 0, 0], [0, 0, 15], [0, 15, 12], [15, 12, 9], [12, 9, 22]]::Y is: [5, 13, 13, 1, 0, 15, 12, 9, 22, 9]\n",
      "liv ---> i\n",
      "Updated Context is: [9, 22, 9]\n",
      "X is: [[0, 0, 0], [0, 0, 5], [0, 5, 13], [5, 13, 13], [13, 13, 1], [0, 0, 0], [0, 0, 15], [0, 15, 12], [15, 12, 9], [12, 9, 22], [9, 22, 9]]::Y is: [5, 13, 13, 1, 0, 15, 12, 9, 22, 9, 1]\n",
      "ivi ---> a\n",
      "Updated Context is: [22, 9, 1]\n",
      "X is: [[0, 0, 0], [0, 0, 5], [0, 5, 13], [5, 13, 13], [13, 13, 1], [0, 0, 0], [0, 0, 15], [0, 15, 12], [15, 12, 9], [12, 9, 22], [9, 22, 9], [22, 9, 1]]::Y is: [5, 13, 13, 1, 0, 15, 12, 9, 22, 9, 1, 0]\n",
      "via ---> .\n",
      "Updated Context is: [9, 1, 0]\n",
      "word is: ava\n",
      "X is: [[0, 0, 0], [0, 0, 5], [0, 5, 13], [5, 13, 13], [13, 13, 1], [0, 0, 0], [0, 0, 15], [0, 15, 12], [15, 12, 9], [12, 9, 22], [9, 22, 9], [22, 9, 1], [0, 0, 0]]::Y is: [5, 13, 13, 1, 0, 15, 12, 9, 22, 9, 1, 0, 1]\n",
      "... ---> a\n",
      "Updated Context is: [0, 0, 1]\n",
      "X is: [[0, 0, 0], [0, 0, 5], [0, 5, 13], [5, 13, 13], [13, 13, 1], [0, 0, 0], [0, 0, 15], [0, 15, 12], [15, 12, 9], [12, 9, 22], [9, 22, 9], [22, 9, 1], [0, 0, 0], [0, 0, 1]]::Y is: [5, 13, 13, 1, 0, 15, 12, 9, 22, 9, 1, 0, 1, 22]\n",
      "..a ---> v\n",
      "Updated Context is: [0, 1, 22]\n",
      "X is: [[0, 0, 0], [0, 0, 5], [0, 5, 13], [5, 13, 13], [13, 13, 1], [0, 0, 0], [0, 0, 15], [0, 15, 12], [15, 12, 9], [12, 9, 22], [9, 22, 9], [22, 9, 1], [0, 0, 0], [0, 0, 1], [0, 1, 22]]::Y is: [5, 13, 13, 1, 0, 15, 12, 9, 22, 9, 1, 0, 1, 22, 1]\n",
      ".av ---> a\n",
      "Updated Context is: [1, 22, 1]\n",
      "X is: [[0, 0, 0], [0, 0, 5], [0, 5, 13], [5, 13, 13], [13, 13, 1], [0, 0, 0], [0, 0, 15], [0, 15, 12], [15, 12, 9], [12, 9, 22], [9, 22, 9], [22, 9, 1], [0, 0, 0], [0, 0, 1], [0, 1, 22], [1, 22, 1]]::Y is: [5, 13, 13, 1, 0, 15, 12, 9, 22, 9, 1, 0, 1, 22, 1, 0]\n",
      "ava ---> .\n",
      "Updated Context is: [22, 1, 0]\n",
      "word is: isabella\n",
      "X is: [[0, 0, 0], [0, 0, 5], [0, 5, 13], [5, 13, 13], [13, 13, 1], [0, 0, 0], [0, 0, 15], [0, 15, 12], [15, 12, 9], [12, 9, 22], [9, 22, 9], [22, 9, 1], [0, 0, 0], [0, 0, 1], [0, 1, 22], [1, 22, 1], [0, 0, 0]]::Y is: [5, 13, 13, 1, 0, 15, 12, 9, 22, 9, 1, 0, 1, 22, 1, 0, 9]\n",
      "... ---> i\n",
      "Updated Context is: [0, 0, 9]\n",
      "X is: [[0, 0, 0], [0, 0, 5], [0, 5, 13], [5, 13, 13], [13, 13, 1], [0, 0, 0], [0, 0, 15], [0, 15, 12], [15, 12, 9], [12, 9, 22], [9, 22, 9], [22, 9, 1], [0, 0, 0], [0, 0, 1], [0, 1, 22], [1, 22, 1], [0, 0, 0], [0, 0, 9]]::Y is: [5, 13, 13, 1, 0, 15, 12, 9, 22, 9, 1, 0, 1, 22, 1, 0, 9, 19]\n",
      "..i ---> s\n",
      "Updated Context is: [0, 9, 19]\n",
      "X is: [[0, 0, 0], [0, 0, 5], [0, 5, 13], [5, 13, 13], [13, 13, 1], [0, 0, 0], [0, 0, 15], [0, 15, 12], [15, 12, 9], [12, 9, 22], [9, 22, 9], [22, 9, 1], [0, 0, 0], [0, 0, 1], [0, 1, 22], [1, 22, 1], [0, 0, 0], [0, 0, 9], [0, 9, 19]]::Y is: [5, 13, 13, 1, 0, 15, 12, 9, 22, 9, 1, 0, 1, 22, 1, 0, 9, 19, 1]\n",
      ".is ---> a\n",
      "Updated Context is: [9, 19, 1]\n",
      "X is: [[0, 0, 0], [0, 0, 5], [0, 5, 13], [5, 13, 13], [13, 13, 1], [0, 0, 0], [0, 0, 15], [0, 15, 12], [15, 12, 9], [12, 9, 22], [9, 22, 9], [22, 9, 1], [0, 0, 0], [0, 0, 1], [0, 1, 22], [1, 22, 1], [0, 0, 0], [0, 0, 9], [0, 9, 19], [9, 19, 1]]::Y is: [5, 13, 13, 1, 0, 15, 12, 9, 22, 9, 1, 0, 1, 22, 1, 0, 9, 19, 1, 2]\n",
      "isa ---> b\n",
      "Updated Context is: [19, 1, 2]\n",
      "X is: [[0, 0, 0], [0, 0, 5], [0, 5, 13], [5, 13, 13], [13, 13, 1], [0, 0, 0], [0, 0, 15], [0, 15, 12], [15, 12, 9], [12, 9, 22], [9, 22, 9], [22, 9, 1], [0, 0, 0], [0, 0, 1], [0, 1, 22], [1, 22, 1], [0, 0, 0], [0, 0, 9], [0, 9, 19], [9, 19, 1], [19, 1, 2]]::Y is: [5, 13, 13, 1, 0, 15, 12, 9, 22, 9, 1, 0, 1, 22, 1, 0, 9, 19, 1, 2, 5]\n",
      "sab ---> e\n",
      "Updated Context is: [1, 2, 5]\n",
      "X is: [[0, 0, 0], [0, 0, 5], [0, 5, 13], [5, 13, 13], [13, 13, 1], [0, 0, 0], [0, 0, 15], [0, 15, 12], [15, 12, 9], [12, 9, 22], [9, 22, 9], [22, 9, 1], [0, 0, 0], [0, 0, 1], [0, 1, 22], [1, 22, 1], [0, 0, 0], [0, 0, 9], [0, 9, 19], [9, 19, 1], [19, 1, 2], [1, 2, 5]]::Y is: [5, 13, 13, 1, 0, 15, 12, 9, 22, 9, 1, 0, 1, 22, 1, 0, 9, 19, 1, 2, 5, 12]\n",
      "abe ---> l\n",
      "Updated Context is: [2, 5, 12]\n",
      "X is: [[0, 0, 0], [0, 0, 5], [0, 5, 13], [5, 13, 13], [13, 13, 1], [0, 0, 0], [0, 0, 15], [0, 15, 12], [15, 12, 9], [12, 9, 22], [9, 22, 9], [22, 9, 1], [0, 0, 0], [0, 0, 1], [0, 1, 22], [1, 22, 1], [0, 0, 0], [0, 0, 9], [0, 9, 19], [9, 19, 1], [19, 1, 2], [1, 2, 5], [2, 5, 12]]::Y is: [5, 13, 13, 1, 0, 15, 12, 9, 22, 9, 1, 0, 1, 22, 1, 0, 9, 19, 1, 2, 5, 12, 12]\n",
      "bel ---> l\n",
      "Updated Context is: [5, 12, 12]\n",
      "X is: [[0, 0, 0], [0, 0, 5], [0, 5, 13], [5, 13, 13], [13, 13, 1], [0, 0, 0], [0, 0, 15], [0, 15, 12], [15, 12, 9], [12, 9, 22], [9, 22, 9], [22, 9, 1], [0, 0, 0], [0, 0, 1], [0, 1, 22], [1, 22, 1], [0, 0, 0], [0, 0, 9], [0, 9, 19], [9, 19, 1], [19, 1, 2], [1, 2, 5], [2, 5, 12], [5, 12, 12]]::Y is: [5, 13, 13, 1, 0, 15, 12, 9, 22, 9, 1, 0, 1, 22, 1, 0, 9, 19, 1, 2, 5, 12, 12, 1]\n",
      "ell ---> a\n",
      "Updated Context is: [12, 12, 1]\n",
      "X is: [[0, 0, 0], [0, 0, 5], [0, 5, 13], [5, 13, 13], [13, 13, 1], [0, 0, 0], [0, 0, 15], [0, 15, 12], [15, 12, 9], [12, 9, 22], [9, 22, 9], [22, 9, 1], [0, 0, 0], [0, 0, 1], [0, 1, 22], [1, 22, 1], [0, 0, 0], [0, 0, 9], [0, 9, 19], [9, 19, 1], [19, 1, 2], [1, 2, 5], [2, 5, 12], [5, 12, 12], [12, 12, 1]]::Y is: [5, 13, 13, 1, 0, 15, 12, 9, 22, 9, 1, 0, 1, 22, 1, 0, 9, 19, 1, 2, 5, 12, 12, 1, 0]\n",
      "lla ---> .\n",
      "Updated Context is: [12, 1, 0]\n",
      "word is: sophia\n",
      "X is: [[0, 0, 0], [0, 0, 5], [0, 5, 13], [5, 13, 13], [13, 13, 1], [0, 0, 0], [0, 0, 15], [0, 15, 12], [15, 12, 9], [12, 9, 22], [9, 22, 9], [22, 9, 1], [0, 0, 0], [0, 0, 1], [0, 1, 22], [1, 22, 1], [0, 0, 0], [0, 0, 9], [0, 9, 19], [9, 19, 1], [19, 1, 2], [1, 2, 5], [2, 5, 12], [5, 12, 12], [12, 12, 1], [0, 0, 0]]::Y is: [5, 13, 13, 1, 0, 15, 12, 9, 22, 9, 1, 0, 1, 22, 1, 0, 9, 19, 1, 2, 5, 12, 12, 1, 0, 19]\n",
      "... ---> s\n",
      "Updated Context is: [0, 0, 19]\n",
      "X is: [[0, 0, 0], [0, 0, 5], [0, 5, 13], [5, 13, 13], [13, 13, 1], [0, 0, 0], [0, 0, 15], [0, 15, 12], [15, 12, 9], [12, 9, 22], [9, 22, 9], [22, 9, 1], [0, 0, 0], [0, 0, 1], [0, 1, 22], [1, 22, 1], [0, 0, 0], [0, 0, 9], [0, 9, 19], [9, 19, 1], [19, 1, 2], [1, 2, 5], [2, 5, 12], [5, 12, 12], [12, 12, 1], [0, 0, 0], [0, 0, 19]]::Y is: [5, 13, 13, 1, 0, 15, 12, 9, 22, 9, 1, 0, 1, 22, 1, 0, 9, 19, 1, 2, 5, 12, 12, 1, 0, 19, 15]\n",
      "..s ---> o\n",
      "Updated Context is: [0, 19, 15]\n",
      "X is: [[0, 0, 0], [0, 0, 5], [0, 5, 13], [5, 13, 13], [13, 13, 1], [0, 0, 0], [0, 0, 15], [0, 15, 12], [15, 12, 9], [12, 9, 22], [9, 22, 9], [22, 9, 1], [0, 0, 0], [0, 0, 1], [0, 1, 22], [1, 22, 1], [0, 0, 0], [0, 0, 9], [0, 9, 19], [9, 19, 1], [19, 1, 2], [1, 2, 5], [2, 5, 12], [5, 12, 12], [12, 12, 1], [0, 0, 0], [0, 0, 19], [0, 19, 15]]::Y is: [5, 13, 13, 1, 0, 15, 12, 9, 22, 9, 1, 0, 1, 22, 1, 0, 9, 19, 1, 2, 5, 12, 12, 1, 0, 19, 15, 16]\n",
      ".so ---> p\n",
      "Updated Context is: [19, 15, 16]\n",
      "X is: [[0, 0, 0], [0, 0, 5], [0, 5, 13], [5, 13, 13], [13, 13, 1], [0, 0, 0], [0, 0, 15], [0, 15, 12], [15, 12, 9], [12, 9, 22], [9, 22, 9], [22, 9, 1], [0, 0, 0], [0, 0, 1], [0, 1, 22], [1, 22, 1], [0, 0, 0], [0, 0, 9], [0, 9, 19], [9, 19, 1], [19, 1, 2], [1, 2, 5], [2, 5, 12], [5, 12, 12], [12, 12, 1], [0, 0, 0], [0, 0, 19], [0, 19, 15], [19, 15, 16]]::Y is: [5, 13, 13, 1, 0, 15, 12, 9, 22, 9, 1, 0, 1, 22, 1, 0, 9, 19, 1, 2, 5, 12, 12, 1, 0, 19, 15, 16, 8]\n",
      "sop ---> h\n",
      "Updated Context is: [15, 16, 8]\n",
      "X is: [[0, 0, 0], [0, 0, 5], [0, 5, 13], [5, 13, 13], [13, 13, 1], [0, 0, 0], [0, 0, 15], [0, 15, 12], [15, 12, 9], [12, 9, 22], [9, 22, 9], [22, 9, 1], [0, 0, 0], [0, 0, 1], [0, 1, 22], [1, 22, 1], [0, 0, 0], [0, 0, 9], [0, 9, 19], [9, 19, 1], [19, 1, 2], [1, 2, 5], [2, 5, 12], [5, 12, 12], [12, 12, 1], [0, 0, 0], [0, 0, 19], [0, 19, 15], [19, 15, 16], [15, 16, 8]]::Y is: [5, 13, 13, 1, 0, 15, 12, 9, 22, 9, 1, 0, 1, 22, 1, 0, 9, 19, 1, 2, 5, 12, 12, 1, 0, 19, 15, 16, 8, 9]\n",
      "oph ---> i\n",
      "Updated Context is: [16, 8, 9]\n",
      "X is: [[0, 0, 0], [0, 0, 5], [0, 5, 13], [5, 13, 13], [13, 13, 1], [0, 0, 0], [0, 0, 15], [0, 15, 12], [15, 12, 9], [12, 9, 22], [9, 22, 9], [22, 9, 1], [0, 0, 0], [0, 0, 1], [0, 1, 22], [1, 22, 1], [0, 0, 0], [0, 0, 9], [0, 9, 19], [9, 19, 1], [19, 1, 2], [1, 2, 5], [2, 5, 12], [5, 12, 12], [12, 12, 1], [0, 0, 0], [0, 0, 19], [0, 19, 15], [19, 15, 16], [15, 16, 8], [16, 8, 9]]::Y is: [5, 13, 13, 1, 0, 15, 12, 9, 22, 9, 1, 0, 1, 22, 1, 0, 9, 19, 1, 2, 5, 12, 12, 1, 0, 19, 15, 16, 8, 9, 1]\n",
      "phi ---> a\n",
      "Updated Context is: [8, 9, 1]\n",
      "X is: [[0, 0, 0], [0, 0, 5], [0, 5, 13], [5, 13, 13], [13, 13, 1], [0, 0, 0], [0, 0, 15], [0, 15, 12], [15, 12, 9], [12, 9, 22], [9, 22, 9], [22, 9, 1], [0, 0, 0], [0, 0, 1], [0, 1, 22], [1, 22, 1], [0, 0, 0], [0, 0, 9], [0, 9, 19], [9, 19, 1], [19, 1, 2], [1, 2, 5], [2, 5, 12], [5, 12, 12], [12, 12, 1], [0, 0, 0], [0, 0, 19], [0, 19, 15], [19, 15, 16], [15, 16, 8], [16, 8, 9], [8, 9, 1]]::Y is: [5, 13, 13, 1, 0, 15, 12, 9, 22, 9, 1, 0, 1, 22, 1, 0, 9, 19, 1, 2, 5, 12, 12, 1, 0, 19, 15, 16, 8, 9, 1, 0]\n",
      "hia ---> .\n",
      "Updated Context is: [9, 1, 0]\n"
     ]
    }
   ],
   "source": [
    "# Build the dataset\n",
    "block_size = 3    # context length - how many characters do we take to predict the next one\n",
    "X, Y = [], []\n",
    "\n",
    "for w in words[:5]:\n",
    "    print(f\"word is: {w}\")\n",
    "    context = [0] * block_size\n",
    "    for ch in w + '.':\n",
    "        ix = stoi[ch]\n",
    "        X.append(context)\n",
    "        Y.append(ix)\n",
    "        print(f\"X is: {X}::Y is: {Y}\")\n",
    "        \n",
    "        print(''.join(itos[i] for i in context), '--->', itos[ix])\n",
    "        context = context[1:] + [ix]\n",
    "        print(f\"Updated Context is: {context}\")"
   ]
  },
  {
   "cell_type": "code",
   "execution_count": 15,
   "metadata": {},
   "outputs": [],
   "source": [
    "X = torch.tensor(X)\n",
    "Y = torch.tensor(Y)"
   ]
  },
  {
   "cell_type": "code",
   "execution_count": 16,
   "metadata": {},
   "outputs": [
    {
     "data": {
      "text/plain": [
       "(torch.Size([32, 3]), torch.int64, torch.Size([32]), torch.int64)"
      ]
     },
     "execution_count": 16,
     "metadata": {},
     "output_type": "execute_result"
    }
   ],
   "source": [
    "X.shape, X.dtype, Y.shape, Y.dtype"
   ]
  },
  {
   "cell_type": "markdown",
   "metadata": {},
   "source": [
    "## Learnings so far:\n",
    "\n",
    "- Character set is extracted from all words. This serves are two lookups - string to index: stoi and index to string: itos\n",
    "- A context window is decided upon. We are using 3. Given three characters, predict what is the next one\n",
    "- This sliding context window data is created from the original names lsit. Alognside, for each context widnow, the label/output Y is also generated which is the next character\n",
    "- eg: for the first five words, 32 rows of such 3 size context widnows are generated in this case. Hence, X.shape is [32, 3]\n",
    "- Now, we want to represent these indiivudal 27 characters into lower dimensional embedding space (27 characters into -> 2 dimensional) for this example. C -> 27 rows and 2 columns\n",
    "- We then will build a neural network which takes these Xs and predicts the Y\n",
    "- "
   ]
  },
  {
   "cell_type": "code",
   "execution_count": 17,
   "metadata": {},
   "outputs": [
    {
     "data": {
      "text/plain": [
       "tensor([[-1.6227, -0.2779],\n",
       "        [-0.1320,  1.0068],\n",
       "        [-0.2130, -0.3723],\n",
       "        [-0.6357,  0.8559],\n",
       "        [-0.1941,  0.3481],\n",
       "        [-1.1056,  0.3212],\n",
       "        [ 0.4088, -0.9490],\n",
       "        [-0.1770, -0.0271],\n",
       "        [-0.6720, -0.9016],\n",
       "        [ 1.8713, -0.9765],\n",
       "        [ 1.7681,  1.1848],\n",
       "        [ 0.2720, -0.7867],\n",
       "        [-0.5769, -0.5816],\n",
       "        [ 0.7620,  0.4512],\n",
       "        [-0.8475, -0.7943],\n",
       "        [ 0.8001, -1.1426],\n",
       "        [ 0.9964, -0.8215],\n",
       "        [ 0.7685,  1.1401],\n",
       "        [ 0.0064, -1.0963],\n",
       "        [-0.1820,  0.6712],\n",
       "        [-0.8513, -2.3924],\n",
       "        [ 0.3257,  0.5558],\n",
       "        [-0.3931,  0.6683],\n",
       "        [ 0.5250, -0.9097],\n",
       "        [ 0.1942,  0.1418],\n",
       "        [-0.8426, -0.9767],\n",
       "        [-0.8494, -0.0673]])"
      ]
     },
     "execution_count": 17,
     "metadata": {},
     "output_type": "execute_result"
    }
   ],
   "source": [
    "# Randomly initialised embedding's matrix for 27 characters into 2 dimensions\n",
    "C = torch.randn((27, 2))\n",
    "C"
   ]
  },
  {
   "cell_type": "code",
   "execution_count": 23,
   "metadata": {},
   "outputs": [
    {
     "name": "stdout",
     "output_type": "stream",
     "text": [
      "Direct C[5]:: tensor([-1.1056,  0.3212])\n",
      "Indirect OneHotEncoded:: tensor([-1.1056,  0.3212])\n"
     ]
    }
   ],
   "source": [
    "# Now for the characters from 0 to 27 - there are two ways to fetch their embedding vector from the C matrix\n",
    "\n",
    "# 1. Directly -> charcater e -> index 5 -> C[5]\n",
    "# 2. Through One Hot Encoding -> F.one_hot(5, num_classes=27) - 27 dimensional vector of all zeroes except the fifth bit turned on\n",
    "# Both provide identical output as seen below\n",
    "print(f\"Direct C[5]:: {C[5]}\")\n",
    "print(f\"Indirect OneHotEncoded:: {F.one_hot(torch.tensor(5), num_classes=27).float() @ C}\")"
   ]
  },
  {
   "cell_type": "code",
   "execution_count": 24,
   "metadata": {},
   "outputs": [
    {
     "data": {
      "text/plain": [
       "torch.Size([32, 3, 2])"
      ]
     },
     "execution_count": 24,
     "metadata": {},
     "output_type": "execute_result"
    }
   ],
   "source": [
    "# X is looked up form embedding smatrix C -> to get embeddings for entire X in one go\n",
    "emb = C[X]\n",
    "emb.shape"
   ]
  },
  {
   "cell_type": "code",
   "execution_count": 27,
   "metadata": {},
   "outputs": [
    {
     "data": {
      "text/plain": [
       "tensor([[[-1.6227, -0.2779],\n",
       "         [-1.6227, -0.2779],\n",
       "         [-1.6227, -0.2779]]])"
      ]
     },
     "execution_count": 27,
     "metadata": {},
     "output_type": "execute_result"
    }
   ],
   "source": [
    "emb[0:1]"
   ]
  },
  {
   "cell_type": "code",
   "execution_count": 30,
   "metadata": {},
   "outputs": [
    {
     "data": {
      "text/plain": [
       "torch.Size([32, 6])"
      ]
     },
     "execution_count": 30,
     "metadata": {},
     "output_type": "execute_result"
    }
   ],
   "source": [
    "# Weights matrix for layer 1 - randomnly initialised\n",
    "# Key points: \n",
    "# 1. Detemine the number of inputs = 3x2 -> 2 dimensional embeedings and 3 of them together\n",
    "# 2. Number of neurons in the layer - a variable we have to decide - using 100 here\n",
    "W1 = torch.randn((6, 100))\n",
    "b1 = torch.randn(100)\n",
    "\n",
    "# the operation we wnat to now perform is emb @ W1 + b1\n",
    "# However, dimensions for emb (32,3,2) does not match W1(6,100). We need to convert emb 3,2 into 6\n",
    "# basically [[0, 0, 0]] -> converted do their respect indiivual elements embeddings \n",
    "# [[[-1.6227, -0.2779], [-1.6227, -0.2779], [-1.6227, -0.2779]\n",
    "# We use torch.cat and pull out the these 3 one by one and concatenate them together\n",
    "# emb[:, 0, :], emb[:, 1, :], emb[:, 2, :] and concatenate along dimension 1\n",
    "torch.cat([emb[:, 0, :], emb[:, 1, :], emb[:, 2, :]], 1).shape\n"
   ]
  },
  {
   "cell_type": "code",
   "execution_count": null,
   "metadata": {},
   "outputs": [],
   "source": []
  }
 ],
 "metadata": {
  "kernelspec": {
   "display_name": "Python (conda-edtech)",
   "language": "python",
   "name": "edtech"
  },
  "language_info": {
   "codemirror_mode": {
    "name": "ipython",
    "version": 3
   },
   "file_extension": ".py",
   "mimetype": "text/x-python",
   "name": "python",
   "nbconvert_exporter": "python",
   "pygments_lexer": "ipython3",
   "version": "3.11.11"
  }
 },
 "nbformat": 4,
 "nbformat_minor": 4
}
